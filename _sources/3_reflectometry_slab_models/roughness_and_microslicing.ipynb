{
 "cells": [
  {
   "cell_type": "markdown",
   "id": "83f8f9ef-d873-4134-a519-de8a3f319cb0",
   "metadata": {},
   "source": [
    "# Roughness and microslicing\n",
    "\n",
    "## Interfacial roughness\n",
    "\n",
    "The slab model that has been discussed has a clear problem, it that it implies **perfectly flat** interfaces between different materials. \n",
    "These cannot exist in real materials, therefore it is necessary to enable some **roughness** between the interfaces in our model. \n",
    "There are a range of functions that can be used to implement interfacial roughness in slab modelling.\n",
    "However, the most common is the use of an error function {cite}`nevot_caracterisation_1980`.\n",
    "\n",
    "We can visualise a typical error function roughness below, where we show the silicon dioxide on silicon sample from before with a roughness of $0$ Å between each layer and with a roughness of $10$ Å between each layer. \n",
    "````{margin}\n",
    "```{note}\n",
    "The code used to obtain the scattering length density profile with roughness can be found in the [`helper.py`](https://github.com/reflectivity/learn/blob/main/3_reflectometry_slab_models/helper.py) module.\n",
    "```\n",
    "````"
   ]
  },
  {
   "cell_type": "code",
   "execution_count": null,
   "id": "f1d076e4-696a-42b6-9638-4958bbeaddb8",
   "metadata": {},
   "outputs": [],
   "source": [
    "import numpy as np\n",
    "import matplotlib.pyplot as plt\n",
    "from matplotlib.patches import Rectangle\n",
    "from helper import sld_with_roughness, microslicing, abeles, abeles_with_roughness"
   ]
  },
  {
   "cell_type": "code",
   "execution_count": null,
   "id": "d4bf3a93-6b10-43b6-94d8-605d4d07d9a2",
   "metadata": {},
   "outputs": [],
   "source": [
    "beta = np.array([0 + 0j, 4.186e-6 + 0j, 2.871e-6 + 0j])\n",
    "d = np.array([0, 200, 0])\n",
    "sigma = np.array([0, 0])\n",
    "sigma2 = np.array([10, 10])\n",
    "plt.plot(*sld_with_roughness(beta, d, sigma), label='0 Å')\n",
    "plt.plot(*sld_with_roughness(beta, d, sigma2), label='10 Å')\n",
    "plt.xlabel('$z$ (Å)')\n",
    "plt.ylabel(r'$\\beta(z)$ (Å$^{-2}$)')\n",
    "plt.legend()\n",
    "plt.show()"
   ]
  },
  {
   "cell_type": "markdown",
   "id": "4cb01be2-3feb-478c-8f41-42301a7b7fb9",
   "metadata": {},
   "source": [
    "We can see that this roughness creates some smoothing of the interface between the layers. \n",
    "We must modify the Abelès matrix formalism discussed previously to account for this smoothing. \n",
    "This is achieved by adapting the calculation of the Fresnel reflectance, \n",
    "\n",
    "```{math}\n",
    ":label: rough\n",
    "r_{n, n+1}(q) = \\frac{k_n(q) - k_{n+1}(q)}{k_n(q) + k_{n+1}(q)} \\exp{(-2k_nk_{n+1}\\sigma_{n,n+1}^2)},\n",
    "```\n",
    "\n",
    "where, $\\sigma_{n, n+1}^2$ is the roughness width between the interfaces. \n",
    "We can observe the effect that this interfacial roughness has on the resulting reflectometry profile, shown below. \n",
    "````{margin}\n",
    "```{note}\n",
    "Again, the code used to find the reflectivity with roughness (and without) can be found in the [`helper.py`](https://github.com/arm61/learn/blob/main/3_reflectometry_slab_models/helper.py) module.\n",
    "```\n",
    "````"
   ]
  },
  {
   "cell_type": "code",
   "execution_count": null,
   "id": "d33041f6-e7b9-4825-b14b-e643ada10834",
   "metadata": {},
   "outputs": [],
   "source": [
    "q = np.linspace(0.001, 0.2, 500)\n",
    "beta = np.array([0 + 0j, 4.186e-6 + 0j, 2.871e-6 + 0j])\n",
    "d = np.array([0, 200, 0])\n",
    "r = abeles(q, beta, d)\n",
    "sigma = np.array([10, 10])\n",
    "r_with_roughness = abeles_with_roughness(q, beta, d, sigma)\n",
    "\n",
    "plt.plot(q, r, label='No roughness')\n",
    "plt.plot(q, r_with_roughness, label='10 Å roughness')\n",
    "plt.xlabel('q (Å$^{-1}$)')\n",
    "plt.ylabel('R(q)')\n",
    "plt.yscale('log')\n",
    "plt.legend()\n",
    "plt.show()"
   ]
  },
  {
   "cell_type": "markdown",
   "id": "064f0575-387e-49b1-a769-8bcab151f0c1",
   "metadata": {},
   "source": [
    "## Problems with interfacial roughness\n",
    "\n",
    "This method for considering interfacial roughness between two layers is not perfect, and if used incorrectly can introduce unphysical artefacts to our reflectometry calculation. \n",
    "Consider the example shown below, where there is a $10$ Å layer of nickel on a substrate of silicon. \n",
    "The roughness between the nickel and air is increased from $3$ Å to $7$ Å with no roughness between the nickel and silicon. "
   ]
  },
  {
   "cell_type": "code",
   "execution_count": null,
   "id": "47dcb1ad-8fdd-4bd9-bc49-b8c2b83f55e4",
   "metadata": {},
   "outputs": [],
   "source": [
    "beta = np.array([0 + 0j, 9.4245e-06 + 0j, 2.074e-6 + 0j])\n",
    "d = np.array([0, 10, 0])\n",
    "sigma3 = np.array([3, 0])\n",
    "sigma5 = np.array([5, 0])\n",
    "sigma7 = np.array([7, 0])\n",
    "\n",
    "fig, ax = plt.subplots(1, 2, figsize=(12.8, 4.8))\n",
    "\n",
    "ax[0].plot(*sld_with_roughness(beta, d, sigma3), label='3 Å')\n",
    "ax[0].plot(*sld_with_roughness(beta, d, sigma5), label='5 Å')\n",
    "ax[0].plot(*sld_with_roughness(beta, d, sigma7), label='7 Å')\n",
    "ax[0].set_xlabel('$z$ (Å)')\n",
    "ax[0].set_ylabel(r'$\\beta(z)$ (Å$^{-2}$)')\n",
    "ax[0].legend()\n",
    "ax[0].add_patch(Rectangle((8.5, 1.25e-6), 6, 1e-6, edgecolor='r', fill=False))\n",
    "\n",
    "ax[1].plot(*sld_with_roughness(beta, d, sigma3), label='3 Å')\n",
    "ax[1].plot(*sld_with_roughness(beta, d, sigma5), label='5 Å')\n",
    "ax[1].plot(*sld_with_roughness(beta, d, sigma7), label='7 Å')\n",
    "ax[1].set_xlabel('$z$ (Å)')\n",
    "ax[1].set_ylabel(r'$\\beta(z)$ (Å$^{-2}$)')\n",
    "ax[1].set_xlim(8.5, 14.5)\n",
    "ax[1].set_ylim(1.25e-6, 2.25e-6)\n",
    "ax[1].legend()\n",
    "\n",
    "plt.show()"
   ]
  },
  {
   "cell_type": "markdown",
   "id": "3e9c6042-867a-4659-8ff6-a44a3bae745f",
   "metadata": {},
   "source": [
    "````{margin}\n",
    "```{note}\n",
    "A common rule of thumb for using Nevot-Croce is that the roughness on an interface should be no more than $20$ % of the thickness of the shortest slab. \n",
    "```\n",
    "````\n",
    "The red rectangle in the left-hand plot identifies the region that is shown in the right-hand plot.\n",
    "From these figures, it is clear that the roughness between the nickel and air is leaking through to the nickel-silicon interface. \n",
    "This can lead to an unphysical interpretation of our system if we interrogate the scattering length density profile. \n",
    "Additionally, given that the roughness parameter only influences the Fresnel reflectance between two interfaces, this \"leaking\" through it **not** reflected in the resulting calculated data. \n",
    "\n",
    "## Microslicing\n",
    "\n",
    "It is still possible that we would like to be able to simulate such a scattering length density profile as is shown above, accurately. \n",
    "Therefore, there must be a methodology to work around this problem with the Nevot-Croce approach.\n",
    "This method is **microslicing**, where the scattering length density profile is described as a series of very thin layers with no roughness between them. \n",
    "Consider the plot shown below, which presents the same interface as before, however, this time comparing the Nevot-Croce approach and microslicing. \n",
    "````{margin}\n",
    "```{note}\n",
    "The microslicing code can be found in the [`helper.py`](https://github.com/arm61/learn/blob/main/3_reflectometry_slab_models/helper.py) module.\n",
    "```\n",
    "````"
   ]
  },
  {
   "cell_type": "code",
   "execution_count": null,
   "id": "71a1416c-3da7-47e4-b14f-97197516d43f",
   "metadata": {},
   "outputs": [],
   "source": [
    "beta = np.array([0 + 0j, 9.4245e-06 + 0j, 2.074e-6 + 0j])\n",
    "d = np.array([0, 10, 0])\n",
    "sigma7 = np.array([7, 0])\n",
    "\n",
    "fig, ax = plt.subplots(1, 2, figsize=(12.8, 4.8))\n",
    "\n",
    "ax[0].plot(*sld_with_roughness(beta, d, sigma7), label='Nevot-Croce')\n",
    "ax[0].step(*microslicing(beta, d, sigma7, 0.5), label='Microslicing')\n",
    "ax[0].set_xlabel('$z$ (Å)')\n",
    "ax[0].set_ylabel(r'$\\beta(z)$ (Å$^{-2}$)')\n",
    "ax[0].legend()\n",
    "ax[0].add_patch(Rectangle((8.5, 1.25e-6), 6, 1e-6, edgecolor='r', fill=False))\n",
    "ax[0].set_xlim(-7.5, 17.5)\n",
    "\n",
    "ax[1].plot(*sld_with_roughness(beta, d, sigma7), label='Nevot-Croce')\n",
    "ax[1].step(*microslicing(beta, d, sigma7, 0.5), label='Microslicing')\n",
    "ax[1].set_xlabel('$z$ (Å)')\n",
    "ax[1].set_ylabel(r'$\\beta(z)$ (Å$^{-2}$)')\n",
    "ax[1].set_xlim(8.5, 14.5)\n",
    "ax[1].set_ylim(1.25e-6, 2.25e-6)\n",
    "ax[1].legend()\n",
    "\n",
    "plt.show()"
   ]
  },
  {
   "cell_type": "markdown",
   "id": "d55c13fd-84dd-4c0d-8a5c-4d6480ea87ed",
   "metadata": {},
   "source": [
    "Notice that now the system is a series of layers with a thickness of $0.5$ Å each. \n",
    "This means that by applying the Abelès matrix formalism to this profile and ignoring any roughness, the reflectivity will be that for the (admittedly unphysical) system where the roughness **does** leak through. \n",
    "Below, we compare two reflectometry profiles using the error function roughness and where the microsliced scattering length density profile is used.\n",
    "To show clearly the impact of the Nevot-Croce approach being inaccurate, we show data where the roughness has a width of $50$ Å."
   ]
  },
  {
   "cell_type": "code",
   "execution_count": null,
   "id": "a5c55648-5cf1-4b20-bc36-7e734e616216",
   "metadata": {},
   "outputs": [],
   "source": [
    "q = np.linspace(0.001, 0.2, 500)\n",
    "beta = np.array([0 + 0j, 9.4245e-06 + 0j, 2.074e-6 + 0j])\n",
    "d = np.array([0, 10, 0])\n",
    "sigma7 = np.array([50, 0])\n",
    "r_nevot_croce = abeles_with_roughness(q, beta, d, sigma7)\n",
    "d_microsliced, beta_microsliced = microslicing(beta, d, sigma7, 0.5)\n",
    "r_microsliced = abeles(q, beta_microsliced + 0j, np.ones_like(beta_microsliced) * 0.5)\n",
    "\n",
    "plt.plot(q, r_nevot_croce, label='Nevot-Croce roughness')\n",
    "plt.plot(q, r_microsliced, label='Microsliced')\n",
    "plt.xlabel('q (Å$^{-1}$)')\n",
    "plt.ylabel('R(q)')\n",
    "plt.yscale('log')\n",
    "plt.legend()\n",
    "plt.show()"
   ]
  }
 ],
 "metadata": {
  "kernelspec": {
   "display_name": "Python 3 (ipykernel)",
   "language": "python",
   "name": "python3"
  },
  "language_info": {
   "codemirror_mode": {
    "name": "ipython",
    "version": 3
   },
   "file_extension": ".py",
   "mimetype": "text/x-python",
   "name": "python",
   "nbconvert_exporter": "python",
   "pygments_lexer": "ipython3",
   "version": "3.9.13"
  }
 },
 "nbformat": 4,
 "nbformat_minor": 5
}
